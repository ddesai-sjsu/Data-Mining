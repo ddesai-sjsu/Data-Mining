{
  "nbformat": 4,
  "nbformat_minor": 0,
  "metadata": {
    "colab": {
      "name": "ANN Algorithms.ipynb",
      "provenance": [],
      "collapsed_sections": [],
      "authorship_tag": "ABX9TyNn9TtYdXWTvnSJg0GeKudj",
      "include_colab_link": true
    },
    "kernelspec": {
      "name": "python3",
      "display_name": "Python 3"
    },
    "language_info": {
      "name": "python"
    },
    "accelerator": "GPU"
  },
  "cells": [
    {
      "cell_type": "markdown",
      "metadata": {
        "id": "view-in-github",
        "colab_type": "text"
      },
      "source": [
        "<a href=\"https://colab.research.google.com/github/ddesai-sjsu/Data-Mining/blob/main/ANN_Algorithms.ipynb\" target=\"_parent\"><img src=\"https://colab.research.google.com/assets/colab-badge.svg\" alt=\"Open In Colab\"/></a>"
      ]
    },
    {
      "cell_type": "markdown",
      "metadata": {
        "id": "IgYa_XXuGYIs"
      },
      "source": [
        "# **Approximate Nerarest Search**\n",
        "\n",
        "a) LSH\n",
        "\n",
        "b) exhaustive search\n",
        "\n",
        "c) product quantization\n",
        "\n",
        "d) trees and graphs\n",
        "\n",
        "e) hnsw"
      ]
    },
    {
      "cell_type": "code",
      "metadata": {
        "colab": {
          "base_uri": "https://localhost:8080/"
        },
        "id": "3MBxZfg3t3JA",
        "outputId": "85e04cb1-2ace-4468-de07-19c7aaf51528"
      },
      "source": [
        "!pip install lightfm"
      ],
      "execution_count": 1,
      "outputs": [
        {
          "output_type": "stream",
          "name": "stdout",
          "text": [
            "Collecting lightfm\n",
            "  Downloading lightfm-1.16.tar.gz (310 kB)\n",
            "\u001b[?25l\r\u001b[K     |█                               | 10 kB 18.2 MB/s eta 0:00:01\r\u001b[K     |██▏                             | 20 kB 11.3 MB/s eta 0:00:01\r\u001b[K     |███▏                            | 30 kB 7.1 MB/s eta 0:00:01\r\u001b[K     |████▎                           | 40 kB 6.5 MB/s eta 0:00:01\r\u001b[K     |█████▎                          | 51 kB 5.4 MB/s eta 0:00:01\r\u001b[K     |██████▍                         | 61 kB 5.4 MB/s eta 0:00:01\r\u001b[K     |███████▍                        | 71 kB 5.7 MB/s eta 0:00:01\r\u001b[K     |████████▌                       | 81 kB 6.3 MB/s eta 0:00:01\r\u001b[K     |█████████▌                      | 92 kB 5.7 MB/s eta 0:00:01\r\u001b[K     |██████████▋                     | 102 kB 5.2 MB/s eta 0:00:01\r\u001b[K     |███████████▋                    | 112 kB 5.2 MB/s eta 0:00:01\r\u001b[K     |████████████▊                   | 122 kB 5.2 MB/s eta 0:00:01\r\u001b[K     |█████████████▊                  | 133 kB 5.2 MB/s eta 0:00:01\r\u001b[K     |██████████████▉                 | 143 kB 5.2 MB/s eta 0:00:01\r\u001b[K     |███████████████▉                | 153 kB 5.2 MB/s eta 0:00:01\r\u001b[K     |█████████████████               | 163 kB 5.2 MB/s eta 0:00:01\r\u001b[K     |██████████████████              | 174 kB 5.2 MB/s eta 0:00:01\r\u001b[K     |███████████████████             | 184 kB 5.2 MB/s eta 0:00:01\r\u001b[K     |████████████████████            | 194 kB 5.2 MB/s eta 0:00:01\r\u001b[K     |█████████████████████▏          | 204 kB 5.2 MB/s eta 0:00:01\r\u001b[K     |██████████████████████▏         | 215 kB 5.2 MB/s eta 0:00:01\r\u001b[K     |███████████████████████▎        | 225 kB 5.2 MB/s eta 0:00:01\r\u001b[K     |████████████████████████▎       | 235 kB 5.2 MB/s eta 0:00:01\r\u001b[K     |█████████████████████████▍      | 245 kB 5.2 MB/s eta 0:00:01\r\u001b[K     |██████████████████████████▍     | 256 kB 5.2 MB/s eta 0:00:01\r\u001b[K     |███████████████████████████▌    | 266 kB 5.2 MB/s eta 0:00:01\r\u001b[K     |████████████████████████████▌   | 276 kB 5.2 MB/s eta 0:00:01\r\u001b[K     |█████████████████████████████▋  | 286 kB 5.2 MB/s eta 0:00:01\r\u001b[K     |██████████████████████████████▋ | 296 kB 5.2 MB/s eta 0:00:01\r\u001b[K     |███████████████████████████████▊| 307 kB 5.2 MB/s eta 0:00:01\r\u001b[K     |████████████████████████████████| 310 kB 5.2 MB/s \n",
            "\u001b[?25hRequirement already satisfied: numpy in /usr/local/lib/python3.7/dist-packages (from lightfm) (1.19.5)\n",
            "Requirement already satisfied: scipy>=0.17.0 in /usr/local/lib/python3.7/dist-packages (from lightfm) (1.4.1)\n",
            "Requirement already satisfied: requests in /usr/local/lib/python3.7/dist-packages (from lightfm) (2.23.0)\n",
            "Requirement already satisfied: scikit-learn in /usr/local/lib/python3.7/dist-packages (from lightfm) (1.0.1)\n",
            "Requirement already satisfied: urllib3!=1.25.0,!=1.25.1,<1.26,>=1.21.1 in /usr/local/lib/python3.7/dist-packages (from requests->lightfm) (1.24.3)\n",
            "Requirement already satisfied: chardet<4,>=3.0.2 in /usr/local/lib/python3.7/dist-packages (from requests->lightfm) (3.0.4)\n",
            "Requirement already satisfied: certifi>=2017.4.17 in /usr/local/lib/python3.7/dist-packages (from requests->lightfm) (2021.10.8)\n",
            "Requirement already satisfied: idna<3,>=2.5 in /usr/local/lib/python3.7/dist-packages (from requests->lightfm) (2.10)\n",
            "Requirement already satisfied: threadpoolctl>=2.0.0 in /usr/local/lib/python3.7/dist-packages (from scikit-learn->lightfm) (3.0.0)\n",
            "Requirement already satisfied: joblib>=0.11 in /usr/local/lib/python3.7/dist-packages (from scikit-learn->lightfm) (1.1.0)\n",
            "Building wheels for collected packages: lightfm\n",
            "  Building wheel for lightfm (setup.py) ... \u001b[?25l\u001b[?25hdone\n",
            "  Created wheel for lightfm: filename=lightfm-1.16-cp37-cp37m-linux_x86_64.whl size=705385 sha256=bfbaa614ac9c7236d842a43055cac7cd92b004cbf649f421e3943ad7af5dad5b\n",
            "  Stored in directory: /root/.cache/pip/wheels/f8/56/28/5772a3bd3413d65f03aa452190b00898b680b10028a1021914\n",
            "Successfully built lightfm\n",
            "Installing collected packages: lightfm\n",
            "Successfully installed lightfm-1.16\n"
          ]
        }
      ]
    },
    {
      "cell_type": "markdown",
      "metadata": {
        "id": "eyNlEUIXGsAd"
      },
      "source": [
        "### **Creating Stack Exchange Dataset:**\n",
        "\n",
        "Dataset used: Stack Exchange Dataset from LightFM\n",
        "\n",
        "Finding questions similar to a given question in Stack Exchange."
      ]
    },
    {
      "cell_type": "code",
      "metadata": {
        "id": "ITVYgPTetXiZ"
      },
      "source": [
        "from lightfm import LightFM\n",
        "from lightfm.datasets import fetch_stackexchange\n",
        "import pickle"
      ],
      "execution_count": 2,
      "outputs": []
    },
    {
      "cell_type": "code",
      "metadata": {
        "id": "9Onh7PFutc8X"
      },
      "source": [
        "stackExchange = fetch_stackexchange(dataset='crossvalidated',test_set_fraction=0.3)\n",
        "train = stackExchange['train']\n",
        "test = stackExchange['test']\n",
        "\n",
        "model = LightFM(learning_rate=0.05, loss='warp', no_components=64, item_alpha=0.001)\n",
        "model.fit_partial(train, item_features=stackExchange['item_features'], epochs=20 )\n",
        "\n",
        "item_vectors = stackExchange['item_features'] * model.item_embeddings"
      ],
      "execution_count": 3,
      "outputs": []
    },
    {
      "cell_type": "code",
      "metadata": {
        "id": "xM04dZOYxgEU"
      },
      "source": [
        "stackExchange['item_labels']=stackExchange['item_feature_labels']"
      ],
      "execution_count": 4,
      "outputs": []
    },
    {
      "cell_type": "code",
      "metadata": {
        "id": "V306CRiYt_Cp"
      },
      "source": [
        "with open('stackExchange.pickle', 'wb') as f:\n",
        "    pickle.dump({\"name\": stackExchange['item_labels'], \"vector\": item_vectors}, f)"
      ],
      "execution_count": 5,
      "outputs": []
    },
    {
      "cell_type": "markdown",
      "metadata": {
        "id": "_dZFrMdcJG7N"
      },
      "source": [
        "### **Locality Sensitive Hashing**"
      ]
    },
    {
      "cell_type": "code",
      "metadata": {
        "colab": {
          "base_uri": "https://localhost:8080/"
        },
        "id": "8R1sCLTZueh4",
        "outputId": "5821aab9-a2d8-4db1-d288-c1e41c3558d9"
      },
      "source": [
        "def load_data():\n",
        "    with open('stackExchange.pickle', 'rb') as f:\n",
        "        data = pickle.load(f)\n",
        "    return data\n",
        "\n",
        "data = load_data()\n",
        "data"
      ],
      "execution_count": 6,
      "outputs": [
        {
          "output_type": "execute_result",
          "data": {
            "text/plain": [
              "{'name': array(['question_id:0', 'question_id:1', 'question_id:2', ...,\n",
              "        'question_id:72357', 'question_id:72358', 'question_id:72359'],\n",
              "       dtype='<U17'),\n",
              " 'vector': array([[ 1.91029292e-02,  3.06971278e-02, -1.41312271e-01, ...,\n",
              "          7.85037652e-02,  4.16649915e-02, -5.09055629e-02],\n",
              "        [ 5.29068224e-02,  4.81603444e-02, -1.45479530e-01, ...,\n",
              "          4.37527411e-02, -2.18923613e-02, -2.26521603e-04],\n",
              "        [-7.72138461e-02, -1.34100250e-04, -1.88081101e-01, ...,\n",
              "          5.02825417e-02,  1.04948692e-02, -1.24074958e-01],\n",
              "        ...,\n",
              "        [-9.68753546e-03,  7.53839910e-02,  4.37215194e-02, ...,\n",
              "         -2.98996530e-02,  2.45406162e-02,  4.21907045e-02],\n",
              "        [ 6.52044639e-02,  1.43514546e-02, -2.85745854e-03, ...,\n",
              "          2.25938503e-02, -2.51188166e-02,  7.80131249e-03],\n",
              "        [ 9.10495296e-02,  6.26801979e-03,  1.14080265e-01, ...,\n",
              "         -8.21157265e-03, -5.29731959e-02,  5.87592367e-03]], dtype=float32)}"
            ]
          },
          "metadata": {},
          "execution_count": 6
        }
      ]
    },
    {
      "cell_type": "code",
      "metadata": {
        "id": "i8MG2ivyufA-"
      },
      "source": [
        "class FalconIndex():\n",
        "    def __init__(self, vectors, labels):\n",
        "        self.dimention = vectors.shape[1]\n",
        "        self.vectors = vectors.astype('float32')\n",
        "        self.labels = labels\n",
        "\n",
        "\n",
        "    def build(self, number_of_partition=8, search_in_x_partitions=2, subvector_size=8):\n",
        "        quantizer = faiss.IndexFlatL2(self.dimention)\n",
        "        self.index = faiss.IndexIVFPQ(quantizer, self.dimention, number_of_partition, search_in_x_partitions, subvector_size)\n",
        "        self.index.train(self.vectors)\n",
        "        self.index.add(self.vectors)\n",
        "        \n",
        "    def query(self, vectors, k=10):\n",
        "        distances, indices = self.index.search(vectors, k) \n",
        "        return [self.labels[i] for i in indices[0]]\n",
        "# https://github.com/erikbern/ann-benchmarks/commit/ecc56def165234fbec830fd1eed44396a1a52c49\n",
        "# https://github.com/nmslib/nmslib/tree/master/python_bindings"
      ],
      "execution_count": 7,
      "outputs": []
    },
    {
      "cell_type": "code",
      "metadata": {
        "colab": {
          "base_uri": "https://localhost:8080/"
        },
        "id": "e06XxOUrxu-8",
        "outputId": "651979c0-02a8-48a9-d0d5-b18ce4a084ba"
      },
      "source": [
        "!pip install faiss\n",
        "!sudo apt-get install libopenblas-dev\n",
        "!sudo apt-get install libomp-dev"
      ],
      "execution_count": 18,
      "outputs": [
        {
          "output_type": "stream",
          "name": "stdout",
          "text": [
            "Requirement already satisfied: faiss in /usr/local/lib/python3.7/dist-packages (1.5.3)\n",
            "Requirement already satisfied: numpy in /usr/local/lib/python3.7/dist-packages (from faiss) (1.19.5)\n",
            "Reading package lists... Done\n",
            "Building dependency tree       \n",
            "Reading state information... Done\n",
            "libopenblas-dev is already the newest version (0.2.20+ds-4).\n",
            "0 upgraded, 0 newly installed, 0 to remove and 37 not upgraded.\n",
            "Reading package lists... Done\n",
            "Building dependency tree       \n",
            "Reading state information... Done\n",
            "libomp-dev is already the newest version (5.0.1-1).\n",
            "0 upgraded, 0 newly installed, 0 to remove and 37 not upgraded.\n"
          ]
        }
      ]
    },
    {
      "cell_type": "code",
      "metadata": {
        "id": "ffPWyifWxuFm"
      },
      "source": [
        "import faiss"
      ],
      "execution_count": 19,
      "outputs": []
    },
    {
      "cell_type": "code",
      "metadata": {
        "id": "9R6cQOj0um6Z"
      },
      "source": [
        "index = FalconIndex(data[\"vector\"], data[\"name\"])\n",
        "index.build()"
      ],
      "execution_count": 20,
      "outputs": []
    },
    {
      "cell_type": "code",
      "metadata": {
        "colab": {
          "base_uri": "https://localhost:8080/"
        },
        "id": "MxEPyoQYuniH",
        "outputId": "d820516b-79ec-4776-fdbb-7448c593d3b2"
      },
      "source": [
        "stackExchange_vector, stackExchange_name = data['vector'][90:91], data['name'][90]\n",
        "similar_questions = '\\n* '.join(index.query(stackExchange_vector))\n",
        "print(f\"The most similar questions to {stackExchange_name} are:\\n* {similar_questions}\")"
      ],
      "execution_count": 21,
      "outputs": [
        {
          "output_type": "stream",
          "name": "stdout",
          "text": [
            "The most similar questions to question_id:90 are:\n",
            "* question_id:261\n",
            "* question_id:5\n",
            "* question_id:294\n",
            "* question_id:3\n",
            "* question_id:30\n",
            "* question_id:50\n",
            "* question_id:357\n",
            "* question_id:340\n",
            "* question_id:90\n",
            "* question_id:67\n"
          ]
        }
      ]
    },
    {
      "cell_type": "markdown",
      "metadata": {
        "id": "6dgVZ0LhJtsh"
      },
      "source": [
        "### **Exhaustive Search**"
      ]
    },
    {
      "cell_type": "code",
      "metadata": {
        "id": "os5y32K9yjzB"
      },
      "source": [
        "class BruteForceIndex():\n",
        "    def __init__(self, vectors, labels):\n",
        "        self.vectors = vectors.astype('float32')\n",
        "        self.labels = labels\n",
        "        self.index = faiss.IndexFlatL2(vectors.shape[1])\n",
        "        self.index.add(self.vectors)\n",
        "      \n",
        "        \n",
        "    def query(self, vectors, k=10):\n",
        "        distances, indices = self.index.search(vectors, k) \n",
        "        return [self.labels[i] for i in indices[0]]"
      ],
      "execution_count": 22,
      "outputs": []
    },
    {
      "cell_type": "code",
      "metadata": {
        "id": "HE3OARnuypfi"
      },
      "source": [
        "index = BruteForceIndex(data[\"vector\"], data[\"name\"])"
      ],
      "execution_count": 23,
      "outputs": []
    },
    {
      "cell_type": "code",
      "metadata": {
        "colab": {
          "base_uri": "https://localhost:8080/"
        },
        "id": "AD_4xBVZytSU",
        "outputId": "ac207447-db1a-48ae-eca3-0edee2dee3ce"
      },
      "source": [
        "stackExchange_vector, stackExchange_name = data['vector'][90:91], data['name'][90]\n",
        "similar_questions = '\\n* '.join(index.query(stackExchange_vector))\n",
        "print(f\"The most similar questions to {stackExchange_name} are:\\n* {similar_questions}\")"
      ],
      "execution_count": 24,
      "outputs": [
        {
          "output_type": "stream",
          "name": "stdout",
          "text": [
            "The most similar questions to question_id:90 are:\n",
            "* question_id:90\n",
            "* question_id:253\n",
            "* question_id:930\n",
            "* question_id:210\n",
            "* question_id:810\n",
            "* question_id:443\n",
            "* question_id:67\n",
            "* question_id:616\n",
            "* question_id:596\n",
            "* question_id:726\n"
          ]
        }
      ]
    },
    {
      "cell_type": "markdown",
      "metadata": {
        "id": "MnEfhntXKh4q"
      },
      "source": [
        "### **Product Quantization IVPQ**"
      ]
    },
    {
      "cell_type": "code",
      "metadata": {
        "id": "wz0D2We2zVhN"
      },
      "source": [
        "class IVPQIndex():\n",
        "    def __init__(self, vectors, labels):\n",
        "        self.dimention = vectors.shape[1]\n",
        "        self.vectors = vectors.astype('float32')\n",
        "        self.labels = labels\n",
        "\n",
        "\n",
        "    def build(self, number_of_partition=8, search_in_x_partitions=2, subvector_size=8):\n",
        "        quantizer = faiss.IndexFlatL2(self.dimention)\n",
        "        self.index = faiss.IndexIVFPQ(quantizer, \n",
        "                                      self.dimention, \n",
        "                                      number_of_partition, \n",
        "                                      search_in_x_partitions, \n",
        "                                      subvector_size)\n",
        "        self.index.train(self.vectors)\n",
        "        self.index.add(self.vectors)\n",
        "        \n",
        "    def query(self, vectors, k=10):\n",
        "        distances, indices = self.index.search(vectors, k) \n",
        "        return [self.labels[i] for i in indices[0]]"
      ],
      "execution_count": 25,
      "outputs": []
    },
    {
      "cell_type": "code",
      "metadata": {
        "id": "ydk0bBX2zVd0"
      },
      "source": [
        "index = IVPQIndex(data[\"vector\"], data[\"name\"])\n",
        "index.build()"
      ],
      "execution_count": 26,
      "outputs": []
    },
    {
      "cell_type": "code",
      "metadata": {
        "colab": {
          "base_uri": "https://localhost:8080/"
        },
        "id": "dh6Vo9kdzZo-",
        "outputId": "60e3d1c9-fa10-48c5-8e45-e99faf0fcd5d"
      },
      "source": [
        "stackExchange_index = 90\n",
        "stackExchange_vector = data['vector'][stackExchange_index:stackExchange_index+1]\n",
        "print(f\"The most simillar questions to {data['name'][stackExchange_index]} are:\")\n",
        "index.query(stackExchange_vector)"
      ],
      "execution_count": 27,
      "outputs": [
        {
          "output_type": "stream",
          "name": "stdout",
          "text": [
            "The most simillar questions to question_id:90 are:\n"
          ]
        },
        {
          "output_type": "execute_result",
          "data": {
            "text/plain": [
              "['question_id:261',\n",
              " 'question_id:5',\n",
              " 'question_id:294',\n",
              " 'question_id:3',\n",
              " 'question_id:30',\n",
              " 'question_id:50',\n",
              " 'question_id:357',\n",
              " 'question_id:340',\n",
              " 'question_id:90',\n",
              " 'question_id:67']"
            ]
          },
          "metadata": {},
          "execution_count": 27
        }
      ]
    },
    {
      "cell_type": "markdown",
      "metadata": {
        "id": "IgwGNJwmKwNs"
      },
      "source": [
        "### **Trees & Graphs**"
      ]
    },
    {
      "cell_type": "code",
      "metadata": {
        "colab": {
          "base_uri": "https://localhost:8080/"
        },
        "id": "C7qDNk7zz7Gp",
        "outputId": "c089ade3-8dc0-43e0-ac7b-1e35e954834c"
      },
      "source": [
        "!pip install annoy\n",
        "!pip install  nmslib"
      ],
      "execution_count": 28,
      "outputs": [
        {
          "output_type": "stream",
          "name": "stdout",
          "text": [
            "Collecting annoy\n",
            "  Downloading annoy-1.17.0.tar.gz (646 kB)\n",
            "\u001b[?25l\r\u001b[K     |▌                               | 10 kB 20.9 MB/s eta 0:00:01\r\u001b[K     |█                               | 20 kB 24.5 MB/s eta 0:00:01\r\u001b[K     |█▌                              | 30 kB 19.3 MB/s eta 0:00:01\r\u001b[K     |██                              | 40 kB 12.0 MB/s eta 0:00:01\r\u001b[K     |██▌                             | 51 kB 5.8 MB/s eta 0:00:01\r\u001b[K     |███                             | 61 kB 6.4 MB/s eta 0:00:01\r\u001b[K     |███▌                            | 71 kB 6.1 MB/s eta 0:00:01\r\u001b[K     |████                            | 81 kB 6.8 MB/s eta 0:00:01\r\u001b[K     |████▋                           | 92 kB 5.1 MB/s eta 0:00:01\r\u001b[K     |█████                           | 102 kB 5.4 MB/s eta 0:00:01\r\u001b[K     |█████▋                          | 112 kB 5.4 MB/s eta 0:00:01\r\u001b[K     |██████                          | 122 kB 5.4 MB/s eta 0:00:01\r\u001b[K     |██████▋                         | 133 kB 5.4 MB/s eta 0:00:01\r\u001b[K     |███████                         | 143 kB 5.4 MB/s eta 0:00:01\r\u001b[K     |███████▋                        | 153 kB 5.4 MB/s eta 0:00:01\r\u001b[K     |████████▏                       | 163 kB 5.4 MB/s eta 0:00:01\r\u001b[K     |████████▋                       | 174 kB 5.4 MB/s eta 0:00:01\r\u001b[K     |█████████▏                      | 184 kB 5.4 MB/s eta 0:00:01\r\u001b[K     |█████████▋                      | 194 kB 5.4 MB/s eta 0:00:01\r\u001b[K     |██████████▏                     | 204 kB 5.4 MB/s eta 0:00:01\r\u001b[K     |██████████▋                     | 215 kB 5.4 MB/s eta 0:00:01\r\u001b[K     |███████████▏                    | 225 kB 5.4 MB/s eta 0:00:01\r\u001b[K     |███████████▋                    | 235 kB 5.4 MB/s eta 0:00:01\r\u001b[K     |████████████▏                   | 245 kB 5.4 MB/s eta 0:00:01\r\u001b[K     |████████████▊                   | 256 kB 5.4 MB/s eta 0:00:01\r\u001b[K     |█████████████▏                  | 266 kB 5.4 MB/s eta 0:00:01\r\u001b[K     |█████████████▊                  | 276 kB 5.4 MB/s eta 0:00:01\r\u001b[K     |██████████████▏                 | 286 kB 5.4 MB/s eta 0:00:01\r\u001b[K     |██████████████▊                 | 296 kB 5.4 MB/s eta 0:00:01\r\u001b[K     |███████████████▏                | 307 kB 5.4 MB/s eta 0:00:01\r\u001b[K     |███████████████▊                | 317 kB 5.4 MB/s eta 0:00:01\r\u001b[K     |████████████████▎               | 327 kB 5.4 MB/s eta 0:00:01\r\u001b[K     |████████████████▊               | 337 kB 5.4 MB/s eta 0:00:01\r\u001b[K     |█████████████████▎              | 348 kB 5.4 MB/s eta 0:00:01\r\u001b[K     |█████████████████▊              | 358 kB 5.4 MB/s eta 0:00:01\r\u001b[K     |██████████████████▎             | 368 kB 5.4 MB/s eta 0:00:01\r\u001b[K     |██████████████████▊             | 378 kB 5.4 MB/s eta 0:00:01\r\u001b[K     |███████████████████▎            | 389 kB 5.4 MB/s eta 0:00:01\r\u001b[K     |███████████████████▊            | 399 kB 5.4 MB/s eta 0:00:01\r\u001b[K     |████████████████████▎           | 409 kB 5.4 MB/s eta 0:00:01\r\u001b[K     |████████████████████▉           | 419 kB 5.4 MB/s eta 0:00:01\r\u001b[K     |█████████████████████▎          | 430 kB 5.4 MB/s eta 0:00:01\r\u001b[K     |█████████████████████▉          | 440 kB 5.4 MB/s eta 0:00:01\r\u001b[K     |██████████████████████▎         | 450 kB 5.4 MB/s eta 0:00:01\r\u001b[K     |██████████████████████▉         | 460 kB 5.4 MB/s eta 0:00:01\r\u001b[K     |███████████████████████▎        | 471 kB 5.4 MB/s eta 0:00:01\r\u001b[K     |███████████████████████▉        | 481 kB 5.4 MB/s eta 0:00:01\r\u001b[K     |████████████████████████▍       | 491 kB 5.4 MB/s eta 0:00:01\r\u001b[K     |████████████████████████▉       | 501 kB 5.4 MB/s eta 0:00:01\r\u001b[K     |█████████████████████████▍      | 512 kB 5.4 MB/s eta 0:00:01\r\u001b[K     |█████████████████████████▉      | 522 kB 5.4 MB/s eta 0:00:01\r\u001b[K     |██████████████████████████▍     | 532 kB 5.4 MB/s eta 0:00:01\r\u001b[K     |██████████████████████████▉     | 542 kB 5.4 MB/s eta 0:00:01\r\u001b[K     |███████████████████████████▍    | 552 kB 5.4 MB/s eta 0:00:01\r\u001b[K     |███████████████████████████▉    | 563 kB 5.4 MB/s eta 0:00:01\r\u001b[K     |████████████████████████████▍   | 573 kB 5.4 MB/s eta 0:00:01\r\u001b[K     |█████████████████████████████   | 583 kB 5.4 MB/s eta 0:00:01\r\u001b[K     |█████████████████████████████▍  | 593 kB 5.4 MB/s eta 0:00:01\r\u001b[K     |██████████████████████████████  | 604 kB 5.4 MB/s eta 0:00:01\r\u001b[K     |██████████████████████████████▍ | 614 kB 5.4 MB/s eta 0:00:01\r\u001b[K     |███████████████████████████████ | 624 kB 5.4 MB/s eta 0:00:01\r\u001b[K     |███████████████████████████████▍| 634 kB 5.4 MB/s eta 0:00:01\r\u001b[K     |████████████████████████████████| 645 kB 5.4 MB/s eta 0:00:01\r\u001b[K     |████████████████████████████████| 646 kB 5.4 MB/s \n",
            "\u001b[?25hBuilding wheels for collected packages: annoy\n",
            "  Building wheel for annoy (setup.py) ... \u001b[?25l\u001b[?25hdone\n",
            "  Created wheel for annoy: filename=annoy-1.17.0-cp37-cp37m-linux_x86_64.whl size=391655 sha256=71666bbaa25de8496e6e32a9cf8e9711b6996dbaa3c69c44af6ecccb85d7a2de\n",
            "  Stored in directory: /root/.cache/pip/wheels/4f/e8/1e/7cc9ebbfa87a3b9f8ba79408d4d31831d67eea918b679a4c07\n",
            "Successfully built annoy\n",
            "Installing collected packages: annoy\n",
            "Successfully installed annoy-1.17.0\n",
            "Collecting nmslib\n",
            "  Downloading nmslib-2.1.1-cp37-cp37m-manylinux2010_x86_64.whl (13.5 MB)\n",
            "\u001b[K     |████████████████████████████████| 13.5 MB 4.3 MB/s \n",
            "\u001b[?25hRequirement already satisfied: psutil in /usr/local/lib/python3.7/dist-packages (from nmslib) (5.4.8)\n",
            "Collecting pybind11<2.6.2\n",
            "  Downloading pybind11-2.6.1-py2.py3-none-any.whl (188 kB)\n",
            "\u001b[K     |████████████████████████████████| 188 kB 48.7 MB/s \n",
            "\u001b[?25hRequirement already satisfied: numpy>=1.10.0 in /usr/local/lib/python3.7/dist-packages (from nmslib) (1.19.5)\n",
            "Installing collected packages: pybind11, nmslib\n",
            "Successfully installed nmslib-2.1.1 pybind11-2.6.1\n"
          ]
        }
      ]
    },
    {
      "cell_type": "code",
      "metadata": {
        "id": "eSstPCKhzbFQ"
      },
      "source": [
        "import annoy"
      ],
      "execution_count": 29,
      "outputs": []
    },
    {
      "cell_type": "code",
      "metadata": {
        "id": "Rm6d9h8YzgzV"
      },
      "source": [
        "class AnnoyIndex():\n",
        "    def __init__(self, vectors, labels):\n",
        "        self.dimention = vectors.shape[1]\n",
        "        self.vectors = vectors.astype('float32')\n",
        "        self.labels = labels\n",
        "\n",
        "\n",
        "    def build(self, number_of_trees=5):\n",
        "        self.index = annoy.AnnoyIndex(self.dimention)\n",
        "        for i, vec in enumerate(self.vectors):\n",
        "            self.index.add_item(i, vec.tolist())\n",
        "        self.index.build(number_of_trees)\n",
        "        \n",
        "    def query(self, vector, k=10):\n",
        "        indices = self.index.get_nns_by_vector(vector.tolist(), k)\n",
        "        return [self.labels[i] for i in indices]"
      ],
      "execution_count": 30,
      "outputs": []
    },
    {
      "cell_type": "code",
      "metadata": {
        "colab": {
          "base_uri": "https://localhost:8080/"
        },
        "id": "PTRMuS3Wzl9s",
        "outputId": "4ba985e0-97ed-4901-bda2-90a3d116b1fa"
      },
      "source": [
        "index = AnnoyIndex(data[\"vector\"], data[\"name\"])\n",
        "index.build()"
      ],
      "execution_count": 31,
      "outputs": [
        {
          "output_type": "stream",
          "name": "stderr",
          "text": [
            "/usr/local/lib/python3.7/dist-packages/ipykernel_launcher.py:9: FutureWarning: The default argument for metric will be removed in future version of Annoy. Please pass metric='angular' explicitly.\n",
            "  if __name__ == '__main__':\n"
          ]
        }
      ]
    },
    {
      "cell_type": "code",
      "metadata": {
        "colab": {
          "base_uri": "https://localhost:8080/"
        },
        "id": "qkdJ-1BvznG9",
        "outputId": "e188ee15-2cf6-4a9e-fb4a-b5c78bbf940c"
      },
      "source": [
        "stackExchange_vector, stackExchange_name = data['vector'][90], data['name'][90]\n",
        "simlar_questions = '\\n* '.join(index.query(stackExchange_vector))\n",
        "print(f\"The most similar questions to {stackExchange_name} are:\\n* {simlar_questions}\")"
      ],
      "execution_count": 32,
      "outputs": [
        {
          "output_type": "stream",
          "name": "stdout",
          "text": [
            "The most similar questions to question_id:90 are:\n",
            "* question_id:90\n",
            "* question_id:253\n",
            "* question_id:5\n",
            "* question_id:930\n",
            "* question_id:616\n",
            "* question_id:36\n",
            "* question_id:131\n",
            "* question_id:3451\n",
            "* question_id:3118\n",
            "* question_id:439\n"
          ]
        }
      ]
    },
    {
      "cell_type": "markdown",
      "metadata": {
        "id": "vR5B0OtqL1SF"
      },
      "source": [
        "### **Hierarchical Navigable Small World Graphs**"
      ]
    },
    {
      "cell_type": "code",
      "metadata": {
        "id": "Hbtp1Qmu0Jm5"
      },
      "source": [
        "class NMSLIBIndex():\n",
        "    def __init__(self, vectors, labels):\n",
        "        self.dimention = vectors.shape[1]\n",
        "        self.vectors = vectors.astype('float32')\n",
        "        self.labels = labels\n",
        "\n",
        "    def build(self):\n",
        "        self.index = nmslib.init(method='hnsw', space='cosinesimil')\n",
        "        self.index.addDataPointBatch(self.vectors)\n",
        "        self.index.createIndex({'post': 2})\n",
        "        \n",
        "    def query(self, vector, k=10):\n",
        "        indices = self.index.knnQuery(vector, k=k)\n",
        "        return [self.labels[i] for i in indices[0]]"
      ],
      "execution_count": 33,
      "outputs": []
    },
    {
      "cell_type": "code",
      "metadata": {
        "id": "71RJTQa90OZE"
      },
      "source": [
        "import nmslib\n",
        "index = NMSLIBIndex(data[\"vector\"], data[\"name\"])\n",
        "index.build()"
      ],
      "execution_count": 34,
      "outputs": []
    },
    {
      "cell_type": "code",
      "metadata": {
        "colab": {
          "base_uri": "https://localhost:8080/"
        },
        "id": "RnHi3nrb0Qcg",
        "outputId": "07e673d4-b91b-4903-835b-cbe47dce4306"
      },
      "source": [
        "stackExchange_vector, stackExchange_name = data['vector'][90], data['name'][90]\n",
        "simlar_questions = '\\n* '.join(index.query(stackExchange_vector))\n",
        "print(f\"The most similar questions to {stackExchange_name} are:\\n* {simlar_questions}\")"
      ],
      "execution_count": 35,
      "outputs": [
        {
          "output_type": "stream",
          "name": "stdout",
          "text": [
            "The most similar questions to question_id:90 are:\n",
            "* question_id:90\n",
            "* question_id:253\n",
            "* question_id:5\n",
            "* question_id:930\n",
            "* question_id:810\n",
            "* question_id:378\n",
            "* question_id:22\n",
            "* question_id:67\n",
            "* question_id:210\n",
            "* question_id:20748\n"
          ]
        }
      ]
    }
  ]
}